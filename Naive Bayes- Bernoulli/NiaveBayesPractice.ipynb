{
  "nbformat": 4,
  "nbformat_minor": 0,
  "metadata": {
    "colab": {
      "name": "NiaveBayesPractice.ipynb",
      "version": "0.3.2",
      "provenance": []
    },
    "kernelspec": {
      "name": "python3",
      "display_name": "Python 3"
    }
  },
  "cells": [
    {
      "cell_type": "code",
      "metadata": {
        "id": "VzJzbHmtM80Y",
        "colab_type": "code",
        "colab": {}
      },
      "source": [
        "import csv\n",
        "import pandas as pd\n",
        "import numpy as np"
      ],
      "execution_count": 0,
      "outputs": []
    },
    {
      "cell_type": "code",
      "metadata": {
        "id": "BYgdmgnyOODQ",
        "colab_type": "code",
        "colab": {}
      },
      "source": [
        "data_set = pd.read_csv('zoodataset.csv')\n",
        "#print(data_set)\n",
        "train_set= data_set.loc[:, data_set.columns != 'animal name']\n",
        "train_set1= train_set.iloc[0:80,0:16]\n",
        "#print(train_set1)\n",
        "#test_set= [[1,0,0,1,0,0,1,1,1,1,0,0,4,0,0,1],[0,0,0,1,0,1,1,1,1,0,0,1,0,1,0,0],[0,0,1,0,0,1,0,1,1,1,0,0,4,0,0,0]]\n",
        "#print(test_set)\n",
        "test_set1= train_set.iloc[81:102,0:17]\n",
        "test_set= train_set.iloc[81:102,0:16]"
      ],
      "execution_count": 0,
      "outputs": []
    },
    {
      "cell_type": "code",
      "metadata": {
        "id": "iWUhzlPdWU-Z",
        "colab_type": "code",
        "colab": {}
      },
      "source": [
        "from sklearn.naive_bayes import BernoulliNB"
      ],
      "execution_count": 0,
      "outputs": []
    },
    {
      "cell_type": "code",
      "metadata": {
        "id": "cKtg7eBwXX6R",
        "colab_type": "code",
        "outputId": "ec00ef08-e27c-4810-9da5-12f011cf6632",
        "colab": {
          "base_uri": "https://localhost:8080/",
          "height": 33
        }
      },
      "source": [
        "model = BernoulliNB()\n",
        "model.fit(train_set1, train_set.iloc[0:80,-1])"
      ],
      "execution_count": 0,
      "outputs": [
        {
          "output_type": "execute_result",
          "data": {
            "text/plain": [
              "BernoulliNB(alpha=1.0, binarize=0.0, class_prior=None, fit_prior=True)"
            ]
          },
          "metadata": {
            "tags": []
          },
          "execution_count": 118
        }
      ]
    },
    {
      "cell_type": "code",
      "metadata": {
        "id": "xynBje1Zv2pb",
        "colab_type": "code",
        "outputId": "1bc297f8-af3f-422a-cfb5-bf1f6781d13c",
        "colab": {
          "base_uri": "https://localhost:8080/",
          "height": 351
        }
      },
      "source": [
        "predictions= model.predict(test_set)\n",
        "for i in range(len(predictions)):\n",
        "    #test_set1[i][-1] \n",
        "    #print(predictions[i] ,\"_\" ,i)\n",
        "    print(test_set1.iloc[i,-1])"
      ],
      "execution_count": 0,
      "outputs": [
        {
          "output_type": "stream",
          "text": [
            "7\n",
            "4\n",
            "2\n",
            "1\n",
            "7\n",
            "4\n",
            "2\n",
            "6\n",
            "5\n",
            "3\n",
            "3\n",
            "4\n",
            "1\n",
            "1\n",
            "2\n",
            "1\n",
            "6\n",
            "1\n",
            "7\n",
            "2\n"
          ],
          "name": "stdout"
        }
      ]
    },
    {
      "cell_type": "code",
      "metadata": {
        "id": "YVyXxTRd6gXy",
        "colab_type": "code",
        "outputId": "6b12d13e-4c65-4450-b90e-fbd8da35cc12",
        "colab": {
          "base_uri": "https://localhost:8080/",
          "height": 33
        }
      },
      "source": [
        "len(test_set1)\n",
        "test_set1.iloc[1,-1]"
      ],
      "execution_count": 0,
      "outputs": [
        {
          "output_type": "execute_result",
          "data": {
            "text/plain": [
              "4"
            ]
          },
          "metadata": {
            "tags": []
          },
          "execution_count": 138
        }
      ]
    },
    {
      "cell_type": "code",
      "metadata": {
        "id": "W5oJTXC31BJq",
        "colab_type": "code",
        "outputId": "943c3cbd-3a3f-46f9-e397-b18c205dc1ad",
        "colab": {
          "base_uri": "https://localhost:8080/",
          "height": 50
        }
      },
      "source": [
        "correct = 0\n",
        "for i in range(len(test_set1)):\n",
        "\tif test_set1.iloc[i,-1] == predictions[i]:\n",
        "\t\tcorrect += 1\n",
        "print(correct)\n",
        "print((correct/(len(test_set1))) * 100.0)"
      ],
      "execution_count": 0,
      "outputs": [
        {
          "output_type": "stream",
          "text": [
            "16\n",
            "80.0\n"
          ],
          "name": "stdout"
        }
      ]
    }
  ]
}